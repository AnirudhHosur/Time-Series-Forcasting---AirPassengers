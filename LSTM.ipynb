{
  "nbformat": 4,
  "nbformat_minor": 0,
  "metadata": {
    "colab": {
      "name": "Untitled8.ipynb",
      "provenance": []
    },
    "kernelspec": {
      "name": "python3",
      "display_name": "Python 3"
    },
    "language_info": {
      "name": "python"
    }
  },
  "cells": [
    {
      "cell_type": "code",
      "execution_count": null,
      "metadata": {
        "id": "fTIWDOuLPQEg"
      },
      "outputs": [],
      "source": [
        ""
      ]
    },
    {
      "cell_type": "code",
      "source": [
        "# Import libraries\n",
        "import pandas as pd\n",
        "import numpy as np\n",
        "import matplotlib.pyplot as plt\n",
        "\n",
        "import tensorflow as tf\n",
        "from tensorflow.keras.models import Sequential\n",
        "from tensorflow.keras.layers import Dense, LSTM, Dropout\n",
        "from tensorflow.keras.optimizers import Adam\n",
        "from sklearn.preprocessing import MinMaxScaler\n",
        "\n",
        "from datetime import datetime\n",
        "\n",
        "\n",
        "# Import dataset\n",
        "data = pd.read_csv('/AirPassengers.csv')\n",
        "data['Month'] = pd.to_datetime(data['Month'])\n",
        "data.set_index('Month', inplace=True)"
      ],
      "metadata": {
        "id": "2EFf9joMPkBS"
      },
      "execution_count": 3,
      "outputs": []
    },
    {
      "cell_type": "code",
      "source": [
        "# Scale the data for pre-processing\n",
        "scaler = MinMaxScaler()\n",
        "data = scaler.fit_transform(data)\n",
        "\n",
        "# Split the data\n",
        "train_size = int(len(data) * 0.8)\n",
        "train, test = data[0:train_size], data[train_size:len(data)]\n",
        "print('Observations: %d' % (len(data)))\n",
        "print('Training Observations: %d' % (len(train)))\n",
        "print('Testing Observations: %d' % (len(test)))\n",
        "\n",
        "# Plot the train and test data\n",
        "plt.plot(train)\n",
        "plt.plot([None for i in train] + [x for x in test])\n",
        "plt.show()\n",
        "\n",
        "# convert an array of values into a dataset matrix\n",
        "def create_dataset(dataset, look_back=1):\n",
        "\tdataX, dataY = [], []\n",
        "\tfor i in range(len(dataset)-look_back-1):\n",
        "\t\ta = dataset[i:(i+look_back), 0]\n",
        "\t\tdataX.append(a)\n",
        "\t\tdataY.append(dataset[i + look_back, 0])\n",
        "\treturn np.array(dataX), np.array(dataY)\n",
        "\n",
        "# reshape into X=t and Y=t+1\n",
        "look_back = 1\n",
        "trainX, trainY = create_dataset(train, look_back)\n",
        "testX, testY = create_dataset(test, look_back)"
      ],
      "metadata": {
        "colab": {
          "base_uri": "https://localhost:8080/",
          "height": 372
        },
        "id": "hjSm6QrIP6kr",
        "outputId": "c51b39aa-c982-4853-d2b7-61b31c14411b"
      },
      "execution_count": 4,
      "outputs": [
        {
          "output_type": "stream",
          "name": "stdout",
          "text": [
            "Observations: 144\n",
            "Training Observations: 115\n",
            "Testing Observations: 29\n"
          ]
        },
        {
          "output_type": "stream",
          "name": "stderr",
          "text": [
            "/usr/local/lib/python3.7/dist-packages/numpy/core/shape_base.py:65: VisibleDeprecationWarning: Creating an ndarray from ragged nested sequences (which is a list-or-tuple of lists-or-tuples-or ndarrays with different lengths or shapes) is deprecated. If you meant to do this, you must specify 'dtype=object' when creating the ndarray.\n",
            "  ary = asanyarray(ary)\n"
          ]
        },
        {
          "output_type": "display_data",
          "data": {
            "text/plain": [
              "<Figure size 432x288 with 1 Axes>"
            ],
            "image/png": "[encoded data removed]"
          },
          "metadata": {
            "needs_background": "light"
          }
        }
      ]
    },
    {
      "cell_type": "code",
      "source": [
        "# The LSTM network expects the input data (X) to be provided with a specific \n",
        "# array structure in the form of: [samples, time steps, features].\n",
        "trainX = np.reshape(trainX, (trainX.shape[0], 1, trainX.shape[1]))\n",
        "testX = np.reshape(testX, (testX.shape[0], 1, testX.shape[1]))\n"
      ],
      "metadata": {
        "id": "suDbfJtOQA0P"
      },
      "execution_count": 5,
      "outputs": []
    },
    {
      "cell_type": "code",
      "source": [
        "# LSTM Model\n",
        "model = Sequential()\n",
        "model.add(LSTM(32, input_shape=(1, look_back)))\n",
        "model.add(Dense(1))\n",
        "model.compile(loss='mean_squared_error', optimizer='adam')\n",
        "model.summary()\n",
        "history = model.fit(trainX, trainY, epochs=100, batch_size=1, verbose=2)"
      ],
      "metadata": {
        "colab": {
          "base_uri": "https://localhost:8080/"
        },
        "id": "z2M2zuZvQDuY",
        "outputId": "d59d8b22-14f4-44d7-c623-1be0e463cb3d"
      },
      "execution_count": 7,
      "outputs": [
        {
          "output_type": "stream",
          "name": "stdout",
          "text": [
            "Model: \"sequential_1\"\n",
            "_________________________________________________________________\n",
            " Layer (type)                Output Shape              Param #   \n",
            "=================================================================\n",
            " lstm_1 (LSTM)               (None, 32)                4352      \n",
            "                                                                 \n",
            " dense_1 (Dense)             (None, 1)                 33        \n",
            "                                                                 \n",
            "=================================================================\n",
            "Total params: 4,385\n",
            "Trainable params: 4,385\n",
            "Non-trainable params: 0\n",
            "_________________________________________________________________\n",
            "Epoch 1/100\n",
            "113/113 - 5s - loss: 0.0407 - 5s/epoch - 46ms/step\n",
            "Epoch 2/100\n",
            "113/113 - 0s - loss: 0.0178 - 325ms/epoch - 3ms/step\n",
            "Epoch 3/100\n",
            "113/113 - 1s - loss: 0.0137 - 917ms/epoch - 8ms/step\n",
            "Epoch 4/100\n",
            "113/113 - 0s - loss: 0.0100 - 326ms/epoch - 3ms/step\n",
            "Epoch 5/100\n",
            "113/113 - 0s - loss: 0.0071 - 349ms/epoch - 3ms/step\n",
            "Epoch 6/100\n",
            "113/113 - 0s - loss: 0.0053 - 318ms/epoch - 3ms/step\n",
            "Epoch 7/100\n",
            "113/113 - 0s - loss: 0.0039 - 334ms/epoch - 3ms/step\n",
            "Epoch 8/100\n",
            "113/113 - 0s - loss: 0.0033 - 337ms/epoch - 3ms/step\n",
            "Epoch 9/100\n",
            "113/113 - 0s - loss: 0.0031 - 378ms/epoch - 3ms/step\n",
            "Epoch 10/100\n",
            "113/113 - 0s - loss: 0.0028 - 336ms/epoch - 3ms/step\n",
            "Epoch 11/100\n",
            "113/113 - 0s - loss: 0.0028 - 254ms/epoch - 2ms/step\n",
            "Epoch 12/100\n",
            "113/113 - 0s - loss: 0.0028 - 372ms/epoch - 3ms/step\n",
            "Epoch 13/100\n",
            "113/113 - 0s - loss: 0.0030 - 318ms/epoch - 3ms/step\n",
            "Epoch 14/100\n",
            "113/113 - 0s - loss: 0.0027 - 313ms/epoch - 3ms/step\n",
            "Epoch 15/100\n",
            "113/113 - 0s - loss: 0.0030 - 458ms/epoch - 4ms/step\n",
            "Epoch 16/100\n",
            "113/113 - 0s - loss: 0.0028 - 484ms/epoch - 4ms/step\n",
            "Epoch 17/100\n",
            "113/113 - 0s - loss: 0.0028 - 333ms/epoch - 3ms/step\n",
            "Epoch 18/100\n",
            "113/113 - 0s - loss: 0.0029 - 422ms/epoch - 4ms/step\n",
            "Epoch 19/100\n",
            "113/113 - 1s - loss: 0.0028 - 504ms/epoch - 4ms/step\n",
            "Epoch 20/100\n",
            "113/113 - 0s - loss: 0.0027 - 315ms/epoch - 3ms/step\n",
            "Epoch 21/100\n",
            "113/113 - 0s - loss: 0.0028 - 478ms/epoch - 4ms/step\n",
            "Epoch 22/100\n",
            "113/113 - 0s - loss: 0.0030 - 391ms/epoch - 3ms/step\n",
            "Epoch 23/100\n",
            "113/113 - 0s - loss: 0.0028 - 475ms/epoch - 4ms/step\n",
            "Epoch 24/100\n",
            "113/113 - 0s - loss: 0.0028 - 426ms/epoch - 4ms/step\n",
            "Epoch 25/100\n",
            "113/113 - 0s - loss: 0.0028 - 403ms/epoch - 4ms/step\n",
            "Epoch 26/100\n",
            "113/113 - 0s - loss: 0.0028 - 337ms/epoch - 3ms/step\n",
            "Epoch 27/100\n",
            "113/113 - 0s - loss: 0.0028 - 471ms/epoch - 4ms/step\n",
            "Epoch 28/100\n",
            "113/113 - 0s - loss: 0.0029 - 329ms/epoch - 3ms/step\n",
            "Epoch 29/100\n",
            "113/113 - 0s - loss: 0.0027 - 420ms/epoch - 4ms/step\n",
            "Epoch 30/100\n",
            "113/113 - 0s - loss: 0.0028 - 288ms/epoch - 3ms/step\n",
            "Epoch 31/100\n",
            "113/113 - 0s - loss: 0.0027 - 390ms/epoch - 3ms/step\n",
            "Epoch 32/100\n",
            "113/113 - 0s - loss: 0.0028 - 369ms/epoch - 3ms/step\n",
            "Epoch 33/100\n",
            "113/113 - 0s - loss: 0.0026 - 361ms/epoch - 3ms/step\n",
            "Epoch 34/100\n",
            "113/113 - 1s - loss: 0.0028 - 912ms/epoch - 8ms/step\n",
            "Epoch 35/100\n",
            "113/113 - 0s - loss: 0.0030 - 299ms/epoch - 3ms/step\n",
            "Epoch 36/100\n",
            "113/113 - 0s - loss: 0.0028 - 313ms/epoch - 3ms/step\n",
            "Epoch 37/100\n",
            "113/113 - 0s - loss: 0.0028 - 271ms/epoch - 2ms/step\n",
            "Epoch 38/100\n",
            "113/113 - 0s - loss: 0.0027 - 200ms/epoch - 2ms/step\n",
            "Epoch 39/100\n",
            "113/113 - 0s - loss: 0.0028 - 194ms/epoch - 2ms/step\n",
            "Epoch 40/100\n",
            "113/113 - 0s - loss: 0.0029 - 179ms/epoch - 2ms/step\n",
            "Epoch 41/100\n",
            "113/113 - 0s - loss: 0.0028 - 201ms/epoch - 2ms/step\n",
            "Epoch 42/100\n",
            "113/113 - 0s - loss: 0.0028 - 199ms/epoch - 2ms/step\n",
            "Epoch 43/100\n",
            "113/113 - 0s - loss: 0.0027 - 190ms/epoch - 2ms/step\n",
            "Epoch 44/100\n",
            "113/113 - 0s - loss: 0.0027 - 186ms/epoch - 2ms/step\n",
            "Epoch 45/100\n",
            "113/113 - 0s - loss: 0.0029 - 196ms/epoch - 2ms/step\n",
            "Epoch 46/100\n",
            "113/113 - 0s - loss: 0.0030 - 192ms/epoch - 2ms/step\n",
            "Epoch 47/100\n",
            "113/113 - 0s - loss: 0.0028 - 193ms/epoch - 2ms/step\n",
            "Epoch 48/100\n",
            "113/113 - 0s - loss: 0.0029 - 189ms/epoch - 2ms/step\n",
            "Epoch 49/100\n",
            "113/113 - 0s - loss: 0.0028 - 191ms/epoch - 2ms/step\n",
            "Epoch 50/100\n",
            "113/113 - 0s - loss: 0.0027 - 204ms/epoch - 2ms/step\n",
            "Epoch 51/100\n",
            "113/113 - 0s - loss: 0.0028 - 190ms/epoch - 2ms/step\n",
            "Epoch 52/100\n",
            "113/113 - 0s - loss: 0.0028 - 193ms/epoch - 2ms/step\n",
            "Epoch 53/100\n",
            "113/113 - 0s - loss: 0.0027 - 195ms/epoch - 2ms/step\n",
            "Epoch 54/100\n",
            "113/113 - 0s - loss: 0.0027 - 213ms/epoch - 2ms/step\n",
            "Epoch 55/100\n",
            "113/113 - 0s - loss: 0.0027 - 208ms/epoch - 2ms/step\n",
            "Epoch 56/100\n",
            "113/113 - 0s - loss: 0.0027 - 201ms/epoch - 2ms/step\n",
            "Epoch 57/100\n",
            "113/113 - 0s - loss: 0.0028 - 200ms/epoch - 2ms/step\n",
            "Epoch 58/100\n",
            "113/113 - 0s - loss: 0.0029 - 186ms/epoch - 2ms/step\n",
            "Epoch 59/100\n",
            "113/113 - 0s - loss: 0.0028 - 199ms/epoch - 2ms/step\n",
            "Epoch 60/100\n",
            "113/113 - 0s - loss: 0.0027 - 196ms/epoch - 2ms/step\n",
            "Epoch 61/100\n",
            "113/113 - 0s - loss: 0.0026 - 185ms/epoch - 2ms/step\n",
            "Epoch 62/100\n",
            "113/113 - 0s - loss: 0.0028 - 192ms/epoch - 2ms/step\n",
            "Epoch 63/100\n",
            "113/113 - 0s - loss: 0.0027 - 204ms/epoch - 2ms/step\n",
            "Epoch 64/100\n",
            "113/113 - 0s - loss: 0.0028 - 204ms/epoch - 2ms/step\n",
            "Epoch 65/100\n",
            "113/113 - 0s - loss: 0.0027 - 186ms/epoch - 2ms/step\n",
            "Epoch 66/100\n",
            "113/113 - 0s - loss: 0.0026 - 196ms/epoch - 2ms/step\n",
            "Epoch 67/100\n",
            "113/113 - 0s - loss: 0.0027 - 201ms/epoch - 2ms/step\n",
            "Epoch 68/100\n",
            "113/113 - 0s - loss: 0.0028 - 191ms/epoch - 2ms/step\n",
            "Epoch 69/100\n",
            "113/113 - 0s - loss: 0.0028 - 197ms/epoch - 2ms/step\n",
            "Epoch 70/100\n",
            "113/113 - 0s - loss: 0.0028 - 195ms/epoch - 2ms/step\n",
            "Epoch 71/100\n",
            "113/113 - 0s - loss: 0.0027 - 192ms/epoch - 2ms/step\n",
            "Epoch 72/100\n",
            "113/113 - 0s - loss: 0.0027 - 194ms/epoch - 2ms/step\n",
            "Epoch 73/100\n",
            "113/113 - 0s - loss: 0.0027 - 182ms/epoch - 2ms/step\n",
            "Epoch 74/100\n",
            "113/113 - 0s - loss: 0.0027 - 198ms/epoch - 2ms/step\n",
            "Epoch 75/100\n",
            "113/113 - 0s - loss: 0.0027 - 202ms/epoch - 2ms/step\n",
            "Epoch 76/100\n",
            "113/113 - 0s - loss: 0.0027 - 194ms/epoch - 2ms/step\n",
            "Epoch 77/100\n",
            "113/113 - 0s - loss: 0.0028 - 185ms/epoch - 2ms/step\n",
            "Epoch 78/100\n",
            "113/113 - 0s - loss: 0.0027 - 186ms/epoch - 2ms/step\n",
            "Epoch 79/100\n",
            "113/113 - 0s - loss: 0.0027 - 189ms/epoch - 2ms/step\n",
            "Epoch 80/100\n",
            "113/113 - 0s - loss: 0.0028 - 190ms/epoch - 2ms/step\n",
            "Epoch 81/100\n",
            "113/113 - 0s - loss: 0.0027 - 194ms/epoch - 2ms/step\n",
            "Epoch 82/100\n",
            "113/113 - 0s - loss: 0.0027 - 181ms/epoch - 2ms/step\n",
            "Epoch 83/100\n",
            "113/113 - 0s - loss: 0.0027 - 193ms/epoch - 2ms/step\n",
            "Epoch 84/100\n",
            "113/113 - 0s - loss: 0.0026 - 199ms/epoch - 2ms/step\n",
            "Epoch 85/100\n",
            "113/113 - 0s - loss: 0.0027 - 222ms/epoch - 2ms/step\n",
            "Epoch 86/100\n",
            "113/113 - 0s - loss: 0.0027 - 189ms/epoch - 2ms/step\n",
            "Epoch 87/100\n",
            "113/113 - 0s - loss: 0.0027 - 197ms/epoch - 2ms/step\n",
            "Epoch 88/100\n",
            "113/113 - 0s - loss: 0.0027 - 193ms/epoch - 2ms/step\n",
            "Epoch 89/100\n",
            "113/113 - 0s - loss: 0.0027 - 194ms/epoch - 2ms/step\n",
            "Epoch 90/100\n",
            "113/113 - 0s - loss: 0.0028 - 207ms/epoch - 2ms/step\n",
            "Epoch 91/100\n",
            "113/113 - 0s - loss: 0.0026 - 184ms/epoch - 2ms/step\n",
            "Epoch 92/100\n",
            "113/113 - 0s - loss: 0.0028 - 199ms/epoch - 2ms/step\n",
            "Epoch 93/100\n",
            "113/113 - 0s - loss: 0.0027 - 190ms/epoch - 2ms/step\n",
            "Epoch 94/100\n",
            "113/113 - 0s - loss: 0.0027 - 180ms/epoch - 2ms/step\n",
            "Epoch 95/100\n",
            "113/113 - 0s - loss: 0.0029 - 224ms/epoch - 2ms/step\n",
            "Epoch 96/100\n",
            "113/113 - 0s - loss: 0.0027 - 195ms/epoch - 2ms/step\n",
            "Epoch 97/100\n",
            "113/113 - 0s - loss: 0.0028 - 206ms/epoch - 2ms/step\n",
            "Epoch 98/100\n",
            "113/113 - 0s - loss: 0.0027 - 200ms/epoch - 2ms/step\n",
            "Epoch 99/100\n",
            "113/113 - 0s - loss: 0.0028 - 195ms/epoch - 2ms/step\n",
            "Epoch 100/100\n",
            "113/113 - 0s - loss: 0.0027 - 184ms/epoch - 2ms/step\n"
          ]
        }
      ]
    },
    {
      "cell_type": "code",
      "source": [
        "pd.DataFrame(history.history)[\"loss\"].plot(figsize=(10, 8))\n",
        "plt.title(\"Loss improvements with Epoch\")\n",
        "plt.show()"
      ],
      "metadata": {
        "colab": {
          "base_uri": "https://localhost:8080/",
          "height": 499
        },
        "id": "o-Kc8DpLQPqo",
        "outputId": "ff0ab45d-73f6-4931-f840-95b9e65bab88"
      },
      "execution_count": 10,
      "outputs": [
        {
          "output_type": "display_data",
          "data": {
            "text/plain": [
              "<Figure size 720x576 with 1 Axes>"
            ],
            "image/png": "[encoded data removed]"
          },
          "metadata": {
            "needs_background": "light"
          }
        }
      ]
    },
    {
      "cell_type": "code",
      "source": [
        "import math\n",
        "# make predictions\n",
        "trainPredict = model.predict(trainX)\n",
        "testPredict = model.predict(testX)"
      ],
      "metadata": {
        "id": "eTSQIUl7QtnV"
      },
      "execution_count": 14,
      "outputs": []
    },
    {
      "cell_type": "code",
      "source": [
        "# invert predictions\n",
        "trainPredict = scaler.inverse_transform(trainPredict)\n",
        "testPredict = scaler.inverse_transform(testPredict)"
      ],
      "metadata": {
        "id": "BZWuwEJCSPUd"
      },
      "execution_count": 17,
      "outputs": []
    },
    {
      "cell_type": "code",
      "source": [
        "# calculate root mean squared error\n",
        "from sklearn.metrics import mean_squared_error\n",
        "import math\n",
        "trainScore = math.sqrt(mean_squared_error(trainY[0], trainPredict[:,0]))\n",
        "print('Train Score: %.2f RMSE' % (trainScore))\n",
        "testScore = math.sqrt(mean_squared_error(testY[0], testPredict[:,0]))\n",
        "print('Test Score: %.2f RMSE' % (testScore))"
      ],
      "metadata": {
        "colab": {
          "base_uri": "https://localhost:8080/"
        },
        "id": "_wXAmvwFSbIE",
        "outputId": "fafa01f9-8e25-4673-b516-aad864e389c2"
      },
      "execution_count": 21,
      "outputs": [
        {
          "output_type": "stream",
          "name": "stdout",
          "text": [
            "Train Score: 26.30 RMSE\n",
            "Test Score: 51.66 RMSE\n"
          ]
        }
      ]
    },
    {
      "cell_type": "code",
      "source": [
        "\n",
        "# shift train predictions for plotting\n",
        "trainPredictPlot = np.empty_like(data)\n",
        "trainPredictPlot[:, :] = np.nan\n",
        "trainPredictPlot[look_back:len(trainPredict)+look_back, :] = trainPredict\n",
        "# shift test predictions for plotting\n",
        "testPredictPlot = np.empty_like(data)\n",
        "testPredictPlot[:, :] = np.nan\n",
        "testPredictPlot[len(trainPredict)+(look_back*2)+1:len(data)-1, :] = testPredict\n",
        "# plot baseline and predictions\n",
        "plt.plot(scaler.inverse_transform(data))\n",
        "plt.plot(trainPredictPlot)\n",
        "plt.plot(testPredictPlot)\n",
        "plt.show()"
      ],
      "metadata": {
        "colab": {
          "base_uri": "https://localhost:8080/",
          "height": 265
        },
        "id": "y1QROAtmS-3c",
        "outputId": "751a5cd5-0514-476c-bed9-c70ce222d040"
      },
      "execution_count": 31,
      "outputs": [
        {
          "output_type": "display_data",
          "data": {
            "text/plain": [
              "<Figure size 432x288 with 1 Axes>"
            ],
            "image/png": "[encoded data removed]"
          },
          "metadata": {
            "needs_background": "light"
          }
        }
      ]
    }
  ]
}